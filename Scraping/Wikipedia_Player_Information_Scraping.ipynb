{
 "cells": [
  {
   "cell_type": "markdown",
   "id": "44627439",
   "metadata": {},
   "source": [
    "# Imports"
   ]
  },
  {
   "cell_type": "markdown",
   "id": "500bc7c7",
   "metadata": {
    "scrolled": true
   },
   "source": [
    "!pip install fake_useragent\n",
    "!pip install --upgrade fake_useragent\n",
    "!pip3 install -U selenium"
   ]
  },
  {
   "cell_type": "code",
   "execution_count": 1,
   "id": "d84fb263",
   "metadata": {},
   "outputs": [],
   "source": [
    "import numpy as np\n",
    "import pandas as pd\n",
    "import random\n",
    "from bs4 import BeautifulSoup\n",
    "import seaborn as sns\n",
    "import matplotlib.pyplot as plt\n",
    "import lxml\n",
    "import requests\n",
    "import re\n",
    "import time\n",
    "from lxml import etree\n",
    "from requests.adapters import HTTPAdapter\n",
    "from urllib3.util.retry import Retry\n",
    "from re import match\n",
    "from fake_useragent import UserAgent\n",
    "import fake_useragent"
   ]
  },
  {
   "cell_type": "code",
   "execution_count": 2,
   "id": "028c6228",
   "metadata": {},
   "outputs": [],
   "source": [
    "ua = UserAgent()"
   ]
  },
  {
   "cell_type": "code",
   "execution_count": 3,
   "id": "cbbcf3ad",
   "metadata": {},
   "outputs": [],
   "source": [
    "import scrapeimports\n",
    "from scrapeimports import get_rot_prox"
   ]
  },
  {
   "cell_type": "code",
   "execution_count": 4,
   "id": "fbcd5354",
   "metadata": {},
   "outputs": [],
   "source": [
    "ip_ads = get_rot_prox()"
   ]
  },
  {
   "cell_type": "code",
   "execution_count": 5,
   "id": "760e12e7",
   "metadata": {},
   "outputs": [
    {
     "data": {
      "text/plain": [
       "'41.65.0.218'"
      ]
     },
     "execution_count": 5,
     "metadata": {},
     "output_type": "execute_result"
    }
   ],
   "source": [
    "random.choice(ip_ads)"
   ]
  },
  {
   "cell_type": "code",
   "execution_count": 16,
   "id": "17cbeb97",
   "metadata": {},
   "outputs": [],
   "source": [
    "from WikiPlayerInfoFuncs import *"
   ]
  },
  {
   "cell_type": "markdown",
   "id": "48120918",
   "metadata": {},
   "source": [
    "# Functions for Grabbing"
   ]
  },
  {
   "cell_type": "markdown",
   "id": "600aff9f",
   "metadata": {},
   "source": [
    "### Quick Verification That Able to Access (Not Jailed)"
   ]
  },
  {
   "cell_type": "code",
   "execution_count": 17,
   "id": "ae9fd8b9",
   "metadata": {},
   "outputs": [],
   "source": [
    "url = f'https://www.basketball-reference.com/leagues/NBA_{2021}_totals.html#totals_stats'\n",
    "page = requests.get(url, proxies={'http':random.choice(ip_ads)})"
   ]
  },
  {
   "cell_type": "code",
   "execution_count": 18,
   "id": "aac77e30",
   "metadata": {},
   "outputs": [
    {
     "data": {
      "text/plain": [
       "<Response [200]>"
      ]
     },
     "execution_count": 18,
     "metadata": {},
     "output_type": "execute_result"
    }
   ],
   "source": [
    "page"
   ]
  },
  {
   "cell_type": "code",
   "execution_count": 19,
   "id": "e788338f",
   "metadata": {},
   "outputs": [],
   "source": [
    "url ='https://en.wikipedia.org//wiki/Rafer_Alston'\n",
    "page = requests.get(url, proxies={'http':random.choice(ip_ads)})"
   ]
  },
  {
   "cell_type": "code",
   "execution_count": 20,
   "id": "9a762487",
   "metadata": {},
   "outputs": [
    {
     "data": {
      "text/plain": [
       "<Response [200]>"
      ]
     },
     "execution_count": 20,
     "metadata": {},
     "output_type": "execute_result"
    }
   ],
   "source": [
    "page"
   ]
  },
  {
   "cell_type": "markdown",
   "id": "1a89d99b",
   "metadata": {},
   "source": [
    "# Grabbing Seasons 1999-2023"
   ]
  },
  {
   "cell_type": "code",
   "execution_count": 22,
   "id": "fdc642d5",
   "metadata": {},
   "outputs": [],
   "source": [
    "#Dataframe to store all information\n",
    "\n",
    "nba_stats_wiki = pd.DataFrame(columns=[\"Year\",\"Name\",\"Born\",\"Nationality\",\"Height\",\"Weight\",\n",
    "                                       \"Highschool\",\"College\",\"Draft\",\"CareerYears\",\n",
    "                                       \"History\",\"Awards\"])"
   ]
  },
  {
   "cell_type": "code",
   "execution_count": 23,
   "id": "9ac3efab",
   "metadata": {},
   "outputs": [],
   "source": [
    "#Grab All Information Using Functions Created Earlier (eg. getPersonalInfo and getHighlights)\n",
    "\n",
    "import time\n",
    "\n",
    "def getSeasonData(year):\n",
    "    startTime = time.time()\n",
    "\n",
    "    nba_yr = getPlayers(year)\n",
    "    \n",
    "    for n in range(len(nba_yr)):\n",
    "        if n % 10 == 0:\n",
    "            print(year,\": \", n+1, \" out of \",len(nba_yr) )\n",
    "        url = getWikiPage(nba_yr,n)\n",
    "\n",
    "        born, nationality, height, weight = getPersonalInfo(url)\n",
    "        highschool, college, draft, careeryrs = getCareer(url)\n",
    "        careerhistory = getHistory(url)\n",
    "        highlights = getHighlights(url)\n",
    "\n",
    "        global nba_stats_wiki\n",
    "        nba_stats_wiki = nba_stats_wiki.append({\"Year\":year,\"Name\":nba_yr[n],\"Born\":born,\"Nationality\":nationality,\n",
    "                                                \"Height\":height,\"Weight\":weight,\"Highschool\":highschool,\n",
    "                                                \"College\":college,\"Draft\":draft,\"CareerYears\":careeryrs,\n",
    "                                                \"History\":careerhistory,\"Awards\":highlights},ignore_index=True)\n",
    "    executionTime = (time.time() - startTime)\n",
    "    print(f'Execution time in seconds for {year} season: ' + str(executionTime))"
   ]
  },
  {
   "cell_type": "code",
   "execution_count": null,
   "id": "2ea83219",
   "metadata": {
    "scrolled": true
   },
   "outputs": [],
   "source": [
    "#Loop Through Each Year Grabbing Every Player in the Season\n",
    "\n",
    "for yr in range(1999,2024):\n",
    "    getSeasonData(yr)"
   ]
  },
  {
   "cell_type": "code",
   "execution_count": null,
   "id": "c82da482",
   "metadata": {},
   "outputs": [],
   "source": [
    "#Convert to .csv File\n",
    "\n",
    "nba_stats_wiki.to_csv('C:\\\\Users\\\\finnr\\\\Downloads\\\\Zhao McIntire Research\\\\nba_player_bio_raw.csv')"
   ]
  },
  {
   "cell_type": "markdown",
   "id": "ef2306dc",
   "metadata": {},
   "source": [
    "### Max 20 Requests per Minute<br><br> Jail for 1 Hour<br><br>[Scraping Rules for Basketball-References.com](https://www.sports-reference.com/bot-traffic.html) "
   ]
  }
 ],
 "metadata": {
  "kernelspec": {
   "display_name": "Python 3 (ipykernel)",
   "language": "python",
   "name": "python3"
  },
  "language_info": {
   "codemirror_mode": {
    "name": "ipython",
    "version": 3
   },
   "file_extension": ".py",
   "mimetype": "text/x-python",
   "name": "python",
   "nbconvert_exporter": "python",
   "pygments_lexer": "ipython3",
   "version": "3.9.7"
  }
 },
 "nbformat": 4,
 "nbformat_minor": 5
}
