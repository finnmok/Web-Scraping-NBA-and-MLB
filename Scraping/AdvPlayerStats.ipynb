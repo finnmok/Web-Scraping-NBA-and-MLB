{
 "cells": [
  {
   "cell_type": "markdown",
   "id": "44627439",
   "metadata": {},
   "source": [
    "# Imports"
   ]
  },
  {
   "cell_type": "code",
   "execution_count": null,
   "id": "5a12e7ee",
   "metadata": {
    "scrolled": true
   },
   "outputs": [],
   "source": [
    "!pip install fake_useragent\n",
    "!pip install --upgrade fake_useragent\n",
    "!pip3 install -U selenium"
   ]
  },
  {
   "cell_type": "code",
   "execution_count": null,
   "id": "d84fb263",
   "metadata": {},
   "outputs": [],
   "source": [
    "import numpy as np\n",
    "import pandas as pd\n",
    "import random\n",
    "from bs4 import BeautifulSoup\n",
    "import seaborn as sns\n",
    "import matplotlib.pyplot as plt\n",
    "import lxml\n",
    "import requests\n",
    "import re\n",
    "import time\n",
    "from lxml import etree\n",
    "from requests.adapters import HTTPAdapter\n",
    "from urllib3.util.retry import Retry\n",
    "from re import match\n",
    "from fake_useragent import UserAgent\n",
    "import fake_useragent"
   ]
  },
  {
   "cell_type": "code",
   "execution_count": null,
   "id": "028c6228",
   "metadata": {},
   "outputs": [],
   "source": [
    "ua = UserAgent()"
   ]
  },
  {
   "cell_type": "code",
   "execution_count": null,
   "id": "cbbcf3ad",
   "metadata": {},
   "outputs": [],
   "source": [
    "import scrapeimports\n",
    "from scrapeimports import get_rot_prox"
   ]
  },
  {
   "cell_type": "code",
   "execution_count": null,
   "id": "fbcd5354",
   "metadata": {},
   "outputs": [],
   "source": [
    "ip_ads = get_rot_prox()"
   ]
  },
  {
   "cell_type": "code",
   "execution_count": null,
   "id": "760e12e7",
   "metadata": {},
   "outputs": [],
   "source": [
    "random.choice(ip_ads)"
   ]
  },
  {
   "cell_type": "markdown",
   "id": "48120918",
   "metadata": {},
   "source": [
    "# Functions for Grabbing"
   ]
  },
  {
   "cell_type": "markdown",
   "id": "600aff9f",
   "metadata": {},
   "source": [
    "### Quick Verification That Able to Access (Not Jailed). Response [200] means accessible"
   ]
  },
  {
   "cell_type": "code",
   "execution_count": null,
   "id": "ae9fd8b9",
   "metadata": {},
   "outputs": [],
   "source": [
    "#Verification for Basketball Reference Website\n",
    "\n",
    "url = f'https://www.basketball-reference.com/leagues/NBA_{2021}_totals.html#totals_stats'\n",
    "page = requests.get(url, proxies={'http':random.choice(ip_ads)})"
   ]
  },
  {
   "cell_type": "code",
   "execution_count": null,
   "id": "aac77e30",
   "metadata": {},
   "outputs": [],
   "source": [
    "page"
   ]
  },
  {
   "cell_type": "markdown",
   "id": "5376b256",
   "metadata": {},
   "source": [
    "# Grab Basketball-Reference.com"
   ]
  },
  {
   "cell_type": "code",
   "execution_count": null,
   "id": "ac537719",
   "metadata": {},
   "outputs": [],
   "source": [
    "all_season_player_dfs = []\n",
    "\n",
    "for yr in range(1999,2024):\n",
    "    url = f'https://www.basketball-reference.com/leagues/NBA_{yr}_totals.html#totals_stats'\n",
    "    \n",
    "    #Read in the Table and Add the Year as a Column to Distinguish Seasons\n",
    "    yr_player_data = pd.read_html(url)[0]\n",
    "    yr_player_data['Season'] = yr\n",
    "    \n",
    "    all_season_player_dfs.append(yr_player_data)"
   ]
  },
  {
   "cell_type": "code",
   "execution_count": null,
   "id": "654e2788",
   "metadata": {},
   "outputs": [],
   "source": [
    "complete_adv_stats = pd.concat(all_season_player_dfs)"
   ]
  },
  {
   "cell_type": "code",
   "execution_count": null,
   "id": "db8c74bd",
   "metadata": {},
   "outputs": [],
   "source": [
    "complete_adv_stats = complete_adv_stats[complete_adv_stats[\"Pos\"]!='Pos']"
   ]
  },
  {
   "cell_type": "code",
   "execution_count": null,
   "id": "79938980",
   "metadata": {},
   "outputs": [],
   "source": [
    "complete_adv_stats = complete_adv_stats.drop(['Unnamed: 0'],axis=1)"
   ]
  },
  {
   "cell_type": "code",
   "execution_count": null,
   "id": "60cdf088",
   "metadata": {},
   "outputs": [],
   "source": [
    "complete_adv_stats.to_csv('C:\\\\Users\\\\finnr\\\\Downloads\\\\Zhao McIntire Research\\\\complete_adv_stats_raw.csv')"
   ]
  },
  {
   "cell_type": "markdown",
   "id": "ef2306dc",
   "metadata": {},
   "source": [
    "### Max 20 Requests per Minute<br><br> Jail for 1 Hour<br><br>[Scraping Rules for Basketball-References.com](https://www.sports-reference.com/bot-traffic.html) "
   ]
  }
 ],
 "metadata": {
  "kernelspec": {
   "display_name": "Python 3 (ipykernel)",
   "language": "python",
   "name": "python3"
  },
  "language_info": {
   "codemirror_mode": {
    "name": "ipython",
    "version": 3
   },
   "file_extension": ".py",
   "mimetype": "text/x-python",
   "name": "python",
   "nbconvert_exporter": "python",
   "pygments_lexer": "ipython3",
   "version": "3.9.7"
  }
 },
 "nbformat": 4,
 "nbformat_minor": 5
}
