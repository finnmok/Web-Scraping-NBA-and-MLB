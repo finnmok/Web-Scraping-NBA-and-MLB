{
 "cells": [
  {
   "cell_type": "markdown",
   "id": "44627439",
   "metadata": {},
   "source": [
    "# Imports"
   ]
  },
  {
   "cell_type": "code",
   "execution_count": 1021,
   "id": "d84fb263",
   "metadata": {},
   "outputs": [],
   "source": [
    "import datetime\n",
    "import math\n",
    "import numpy as np\n",
    "import pandas as pd\n",
    "import random\n",
    "from bs4 import BeautifulSoup\n",
    "import seaborn as sns\n",
    "import matplotlib.pyplot as plt\n",
    "import re\n",
    "import time\n",
    "from re import match"
   ]
  },
  {
   "cell_type": "markdown",
   "id": "c87cbdd5",
   "metadata": {},
   "source": [
    "### Remove Repeat Values"
   ]
  },
  {
   "cell_type": "code",
   "execution_count": 1022,
   "id": "3076638f",
   "metadata": {},
   "outputs": [
    {
     "data": {
      "text/html": [
       "<div>\n",
       "<style scoped>\n",
       "    .dataframe tbody tr th:only-of-type {\n",
       "        vertical-align: middle;\n",
       "    }\n",
       "\n",
       "    .dataframe tbody tr th {\n",
       "        vertical-align: top;\n",
       "    }\n",
       "\n",
       "    .dataframe thead th {\n",
       "        text-align: right;\n",
       "    }\n",
       "</style>\n",
       "<table border=\"1\" class=\"dataframe\">\n",
       "  <thead>\n",
       "    <tr style=\"text-align: right;\">\n",
       "      <th></th>\n",
       "      <th>Name</th>\n",
       "      <th>College_y</th>\n",
       "    </tr>\n",
       "  </thead>\n",
       "  <tbody>\n",
       "    <tr>\n",
       "      <th>1</th>\n",
       "      <td>Abdul-Wahad,Tariq</td>\n",
       "      <td>Michigan (1993–1994)San Jose State (1995–1997)</td>\n",
       "    </tr>\n",
       "    <tr>\n",
       "      <th>2</th>\n",
       "      <td>Abdur-Rahim,Shareef</td>\n",
       "      <td>California (1995–1996)</td>\n",
       "    </tr>\n",
       "    <tr>\n",
       "      <th>3</th>\n",
       "      <td>Alexander,Cory</td>\n",
       "      <td>Virginia (1991–1995)</td>\n",
       "    </tr>\n",
       "    <tr>\n",
       "      <th>4</th>\n",
       "      <td>Allen,Ray</td>\n",
       "      <td>UConn (1993–1996)</td>\n",
       "    </tr>\n",
       "    <tr>\n",
       "      <th>5</th>\n",
       "      <td>Aluma,Peter</td>\n",
       "      <td>Liberty (1993–1997)</td>\n",
       "    </tr>\n",
       "  </tbody>\n",
       "</table>\n",
       "</div>"
      ],
      "text/plain": [
       "                  Name                                       College_y\n",
       "1    Abdul-Wahad,Tariq  Michigan (1993–1994)San Jose State (1995–1997)\n",
       "2  Abdur-Rahim,Shareef                          California (1995–1996)\n",
       "3       Alexander,Cory                            Virginia (1991–1995)\n",
       "4            Allen,Ray                               UConn (1993–1996)\n",
       "5          Aluma,Peter                             Liberty (1993–1997)"
      ]
     },
     "execution_count": 1022,
     "metadata": {},
     "output_type": "execute_result"
    }
   ],
   "source": [
    "g = pd.read_csv('fixed_colleges.csv',names=['Name','College_y']).reset_index().drop('index',axis=1).iloc[1:]\n",
    "g.head()"
   ]
  },
  {
   "cell_type": "code",
   "execution_count": 1023,
   "id": "4a3b32ce",
   "metadata": {
    "scrolled": false
   },
   "outputs": [
    {
     "data": {
      "text/html": [
       "<div>\n",
       "<style scoped>\n",
       "    .dataframe tbody tr th:only-of-type {\n",
       "        vertical-align: middle;\n",
       "    }\n",
       "\n",
       "    .dataframe tbody tr th {\n",
       "        vertical-align: top;\n",
       "    }\n",
       "\n",
       "    .dataframe thead th {\n",
       "        text-align: right;\n",
       "    }\n",
       "</style>\n",
       "<table border=\"1\" class=\"dataframe\">\n",
       "  <thead>\n",
       "    <tr style=\"text-align: right;\">\n",
       "      <th></th>\n",
       "      <th>Unnamed: 0</th>\n",
       "      <th>Year</th>\n",
       "      <th>Name</th>\n",
       "      <th>Born</th>\n",
       "      <th>Nationality</th>\n",
       "      <th>Height</th>\n",
       "      <th>Weight</th>\n",
       "      <th>Highschool</th>\n",
       "      <th>College</th>\n",
       "      <th>Draft</th>\n",
       "      <th>...</th>\n",
       "      <th>FirstName</th>\n",
       "      <th>LastName</th>\n",
       "      <th>Birthday</th>\n",
       "      <th>Birthplace</th>\n",
       "      <th>American</th>\n",
       "      <th>CareerStart</th>\n",
       "      <th>CareerEnd</th>\n",
       "      <th>Height (in)</th>\n",
       "      <th>Weight (lbs)</th>\n",
       "      <th>College_y</th>\n",
       "    </tr>\n",
       "  </thead>\n",
       "  <tbody>\n",
       "    <tr>\n",
       "      <th>0</th>\n",
       "      <td>0</td>\n",
       "      <td>1999.0</td>\n",
       "      <td>Abdul-Wahad,Tariq</td>\n",
       "      <td>['(1974-11-03) November 3, 1974 ', 'Maisons-Al...</td>\n",
       "      <td>NaN</td>\n",
       "      <td>6 ft 6 in (1.98 m)</td>\n",
       "      <td>223 lb (101 kg)</td>\n",
       "      <td>Aristide Briand (Évreux, France)</td>\n",
       "      <td>Michigan (1993–1994)San Jose State (1995–1997)</td>\n",
       "      <td>1997.0</td>\n",
       "      <td>...</td>\n",
       "      <td>Tariq</td>\n",
       "      <td>Abdul-Wahad</td>\n",
       "      <td>1974-11-03</td>\n",
       "      <td>Maisons-Alfort, Val-de-Marne, France</td>\n",
       "      <td>0.0</td>\n",
       "      <td>1997.0</td>\n",
       "      <td>2003.0</td>\n",
       "      <td>78.0</td>\n",
       "      <td>223.0</td>\n",
       "      <td>Michigan (1993–1994)San Jose State (1995–1997)</td>\n",
       "    </tr>\n",
       "    <tr>\n",
       "      <th>1</th>\n",
       "      <td>440</td>\n",
       "      <td>2000.0</td>\n",
       "      <td>Abdul-Wahad,Tariq</td>\n",
       "      <td>['(1974-11-03) November 3, 1974 ', 'Maisons-Al...</td>\n",
       "      <td>NaN</td>\n",
       "      <td>6 ft 6 in (1.98 m)</td>\n",
       "      <td>223 lb (101 kg)</td>\n",
       "      <td>Aristide Briand (Évreux, France)</td>\n",
       "      <td>Michigan (1993–1994)San Jose State (1995–1997)</td>\n",
       "      <td>1997.0</td>\n",
       "      <td>...</td>\n",
       "      <td>Tariq</td>\n",
       "      <td>Abdul-Wahad</td>\n",
       "      <td>1974-11-03</td>\n",
       "      <td>Maisons-Alfort, Val-de-Marne, France</td>\n",
       "      <td>0.0</td>\n",
       "      <td>1997.0</td>\n",
       "      <td>2003.0</td>\n",
       "      <td>78.0</td>\n",
       "      <td>223.0</td>\n",
       "      <td>Michigan (1993–1994)San Jose State (1995–1997)</td>\n",
       "    </tr>\n",
       "    <tr>\n",
       "      <th>2</th>\n",
       "      <td>880</td>\n",
       "      <td>2001.0</td>\n",
       "      <td>Abdul-Wahad,Tariq</td>\n",
       "      <td>['(1974-11-03) November 3, 1974 ', 'Maisons-Al...</td>\n",
       "      <td>NaN</td>\n",
       "      <td>6 ft 6 in (1.98 m)</td>\n",
       "      <td>223 lb (101 kg)</td>\n",
       "      <td>Aristide Briand (Évreux, France)</td>\n",
       "      <td>Michigan (1993–1994)San Jose State (1995–1997)</td>\n",
       "      <td>1997.0</td>\n",
       "      <td>...</td>\n",
       "      <td>Tariq</td>\n",
       "      <td>Abdul-Wahad</td>\n",
       "      <td>1974-11-03</td>\n",
       "      <td>Maisons-Alfort, Val-de-Marne, France</td>\n",
       "      <td>0.0</td>\n",
       "      <td>1997.0</td>\n",
       "      <td>2003.0</td>\n",
       "      <td>78.0</td>\n",
       "      <td>223.0</td>\n",
       "      <td>Michigan (1993–1994)San Jose State (1995–1997)</td>\n",
       "    </tr>\n",
       "    <tr>\n",
       "      <th>3</th>\n",
       "      <td>1320</td>\n",
       "      <td>2002.0</td>\n",
       "      <td>Abdul-Wahad,Tariq</td>\n",
       "      <td>['(1974-11-03) November 3, 1974 ', 'Maisons-Al...</td>\n",
       "      <td>NaN</td>\n",
       "      <td>6 ft 6 in (1.98 m)</td>\n",
       "      <td>223 lb (101 kg)</td>\n",
       "      <td>Aristide Briand (Évreux, France)</td>\n",
       "      <td>Michigan (1993–1994)San Jose State (1995–1997)</td>\n",
       "      <td>1997.0</td>\n",
       "      <td>...</td>\n",
       "      <td>Tariq</td>\n",
       "      <td>Abdul-Wahad</td>\n",
       "      <td>1974-11-03</td>\n",
       "      <td>Maisons-Alfort, Val-de-Marne, France</td>\n",
       "      <td>0.0</td>\n",
       "      <td>1997.0</td>\n",
       "      <td>2003.0</td>\n",
       "      <td>78.0</td>\n",
       "      <td>223.0</td>\n",
       "      <td>Michigan (1993–1994)San Jose State (1995–1997)</td>\n",
       "    </tr>\n",
       "    <tr>\n",
       "      <th>4</th>\n",
       "      <td>1760</td>\n",
       "      <td>2003.0</td>\n",
       "      <td>Abdul-Wahad,Tariq</td>\n",
       "      <td>['(1974-11-03) November 3, 1974 ', 'Maisons-Al...</td>\n",
       "      <td>NaN</td>\n",
       "      <td>6 ft 6 in (1.98 m)</td>\n",
       "      <td>223 lb (101 kg)</td>\n",
       "      <td>Aristide Briand (Évreux, France)</td>\n",
       "      <td>Michigan (1993–1994)San Jose State (1995–1997)</td>\n",
       "      <td>1997.0</td>\n",
       "      <td>...</td>\n",
       "      <td>Tariq</td>\n",
       "      <td>Abdul-Wahad</td>\n",
       "      <td>1974-11-03</td>\n",
       "      <td>Maisons-Alfort, Val-de-Marne, France</td>\n",
       "      <td>0.0</td>\n",
       "      <td>1997.0</td>\n",
       "      <td>2003.0</td>\n",
       "      <td>78.0</td>\n",
       "      <td>223.0</td>\n",
       "      <td>Michigan (1993–1994)San Jose State (1995–1997)</td>\n",
       "    </tr>\n",
       "  </tbody>\n",
       "</table>\n",
       "<p>5 rows × 23 columns</p>\n",
       "</div>"
      ],
      "text/plain": [
       "   Unnamed: 0    Year               Name  \\\n",
       "0           0  1999.0  Abdul-Wahad,Tariq   \n",
       "1         440  2000.0  Abdul-Wahad,Tariq   \n",
       "2         880  2001.0  Abdul-Wahad,Tariq   \n",
       "3        1320  2002.0  Abdul-Wahad,Tariq   \n",
       "4        1760  2003.0  Abdul-Wahad,Tariq   \n",
       "\n",
       "                                                Born Nationality  \\\n",
       "0  ['(1974-11-03) November 3, 1974 ', 'Maisons-Al...         NaN   \n",
       "1  ['(1974-11-03) November 3, 1974 ', 'Maisons-Al...         NaN   \n",
       "2  ['(1974-11-03) November 3, 1974 ', 'Maisons-Al...         NaN   \n",
       "3  ['(1974-11-03) November 3, 1974 ', 'Maisons-Al...         NaN   \n",
       "4  ['(1974-11-03) November 3, 1974 ', 'Maisons-Al...         NaN   \n",
       "\n",
       "               Height           Weight                        Highschool  \\\n",
       "0  6 ft 6 in (1.98 m)  223 lb (101 kg)  Aristide Briand (Évreux, France)   \n",
       "1  6 ft 6 in (1.98 m)  223 lb (101 kg)  Aristide Briand (Évreux, France)   \n",
       "2  6 ft 6 in (1.98 m)  223 lb (101 kg)  Aristide Briand (Évreux, France)   \n",
       "3  6 ft 6 in (1.98 m)  223 lb (101 kg)  Aristide Briand (Évreux, France)   \n",
       "4  6 ft 6 in (1.98 m)  223 lb (101 kg)  Aristide Briand (Évreux, France)   \n",
       "\n",
       "                                          College   Draft  ... FirstName  \\\n",
       "0  Michigan (1993–1994)San Jose State (1995–1997)  1997.0  ...     Tariq   \n",
       "1  Michigan (1993–1994)San Jose State (1995–1997)  1997.0  ...     Tariq   \n",
       "2  Michigan (1993–1994)San Jose State (1995–1997)  1997.0  ...     Tariq   \n",
       "3  Michigan (1993–1994)San Jose State (1995–1997)  1997.0  ...     Tariq   \n",
       "4  Michigan (1993–1994)San Jose State (1995–1997)  1997.0  ...     Tariq   \n",
       "\n",
       "      LastName    Birthday                            Birthplace American  \\\n",
       "0  Abdul-Wahad  1974-11-03  Maisons-Alfort, Val-de-Marne, France      0.0   \n",
       "1  Abdul-Wahad  1974-11-03  Maisons-Alfort, Val-de-Marne, France      0.0   \n",
       "2  Abdul-Wahad  1974-11-03  Maisons-Alfort, Val-de-Marne, France      0.0   \n",
       "3  Abdul-Wahad  1974-11-03  Maisons-Alfort, Val-de-Marne, France      0.0   \n",
       "4  Abdul-Wahad  1974-11-03  Maisons-Alfort, Val-de-Marne, France      0.0   \n",
       "\n",
       "  CareerStart CareerEnd  Height (in)  Weight (lbs)  \\\n",
       "0      1997.0    2003.0         78.0         223.0   \n",
       "1      1997.0    2003.0         78.0         223.0   \n",
       "2      1997.0    2003.0         78.0         223.0   \n",
       "3      1997.0    2003.0         78.0         223.0   \n",
       "4      1997.0    2003.0         78.0         223.0   \n",
       "\n",
       "                                        College_y  \n",
       "0  Michigan (1993–1994)San Jose State (1995–1997)  \n",
       "1  Michigan (1993–1994)San Jose State (1995–1997)  \n",
       "2  Michigan (1993–1994)San Jose State (1995–1997)  \n",
       "3  Michigan (1993–1994)San Jose State (1995–1997)  \n",
       "4  Michigan (1993–1994)San Jose State (1995–1997)  \n",
       "\n",
       "[5 rows x 23 columns]"
      ]
     },
     "execution_count": 1023,
     "metadata": {},
     "output_type": "execute_result"
    }
   ],
   "source": [
    "nba_stats = pd.read_csv('nba_player_bio_raw.csv')\n",
    "nba_stats = pd.merge(nba_stats,g,on='Name')\n",
    "nba_stats.head()"
   ]
  },
  {
   "cell_type": "code",
   "execution_count": 1024,
   "id": "387365f5",
   "metadata": {},
   "outputs": [],
   "source": [
    "#Scraper Messed Up Players, so Scraped and Deleted Birthdates, so Rescraped Every Row with Birth Dates\n",
    "nba_stats = nba_stats.drop('Unnamed: 0',axis=1)"
   ]
  },
  {
   "cell_type": "code",
   "execution_count": 1025,
   "id": "38d166d1",
   "metadata": {},
   "outputs": [],
   "source": [
    "nba_stats_copy = nba_stats"
   ]
  },
  {
   "cell_type": "markdown",
   "id": "7f5b5df4",
   "metadata": {},
   "source": [
    "### Adjusting Column DataTypes "
   ]
  },
  {
   "cell_type": "code",
   "execution_count": 1026,
   "id": "62ccaf4d",
   "metadata": {},
   "outputs": [
    {
     "data": {
      "text/plain": [
       "Year            float64\n",
       "Name             object\n",
       "Born             object\n",
       "Nationality      object\n",
       "Height           object\n",
       "Weight           object\n",
       "Highschool       object\n",
       "College          object\n",
       "Draft           float64\n",
       "CareerYears      object\n",
       "History          object\n",
       "Awards           object\n",
       "FirstName        object\n",
       "LastName         object\n",
       "Birthday         object\n",
       "Birthplace       object\n",
       "American        float64\n",
       "CareerStart     float64\n",
       "CareerEnd       float64\n",
       "Height (in)     float64\n",
       "Weight (lbs)    float64\n",
       "College_y        object\n",
       "dtype: object"
      ]
     },
     "execution_count": 1026,
     "metadata": {},
     "output_type": "execute_result"
    }
   ],
   "source": [
    "nba_stats_copy.dtypes"
   ]
  },
  {
   "cell_type": "code",
   "execution_count": 1027,
   "id": "3169204c",
   "metadata": {},
   "outputs": [],
   "source": [
    "nba_stats_copy[\"Nationality\"] = nba_stats_copy[\"Nationality\"].apply(lambda x: None if isinstance(x,float) else x)\n",
    "nba_stats_copy[\"Weight\"] = nba_stats_copy[\"Weight\"].apply(lambda x: None if isinstance(x,float) else x)\n",
    "nba_stats_copy[\"Height\"] = nba_stats_copy[\"Height\"].apply(lambda x: None if isinstance(x,float) else x)\n",
    "nba_stats_copy[\"Highschool\"] = nba_stats_copy[\"Highschool\"].apply(lambda x: None if isinstance(x,float) else x)\n",
    "nba_stats_copy[\"College\"] = nba_stats_copy[\"College\"].apply(lambda x: None if isinstance(x,float) else x)"
   ]
  },
  {
   "cell_type": "markdown",
   "id": "aaa2682f",
   "metadata": {},
   "source": [
    "# Cleaned Values for Table:\n",
    "### - Columns (Which is Manipulated)\n",
    "    - First Name (Name)\n",
    "    - Last Name (Name)\n",
    "    - Year\n",
    "    - Nationality\n",
    "    - Birthday (Born)\n",
    "    - Birthplace (Born)\n",
    "    - Born in America? (Born)\n",
    "    - Career Start (CareerYrs)\n",
    "    - Career End (CareerYrs)\n",
    "    - Height ins (Height)\n",
    "    - Weight lbs (Weight)\n",
    "    - Highschools (Highschool)\n",
    "    - Highschool Cities and State (Highschool)\n",
    "    - Highschool in the United States? (Highschool)\n",
    "    - Colleges (College)\n",
    "    - College Years (College)\n",
    "    - Which Teams and What Years They Played For (History)"
   ]
  },
  {
   "cell_type": "markdown",
   "id": "0745dde3",
   "metadata": {},
   "source": [
    "### First Name, Last Name"
   ]
  },
  {
   "cell_type": "code",
   "execution_count": 1028,
   "id": "f162062c",
   "metadata": {},
   "outputs": [],
   "source": [
    "#Separate Name into First and Last Components\n",
    "nba_stats_copy['FirstName'] = nba_stats_copy[\"Name\"].apply(lambda x: x.split(',')[1])\n",
    "nba_stats_copy['LastName'] = nba_stats_copy[\"Name\"].apply(lambda x: x.split(',')[0])"
   ]
  },
  {
   "cell_type": "markdown",
   "id": "f5bd0c66",
   "metadata": {},
   "source": [
    "### Birthday, Birthplace"
   ]
  },
  {
   "cell_type": "code",
   "execution_count": 1029,
   "id": "e287975c",
   "metadata": {},
   "outputs": [],
   "source": [
    "def getBday(x):\n",
    "    \n",
    "    pattern_bday = re.compile(r\"\\d\\d\\d\\d-\\d\\d-\\d\\d\", re.IGNORECASE)\n",
    "    \n",
    "    if pattern_bday.search(str(x)) != None:\n",
    "        return pattern_bday.search(str(x)).group(0)\n",
    "    else:\n",
    "        return None"
   ]
  },
  {
   "cell_type": "code",
   "execution_count": 1030,
   "id": "351530bf",
   "metadata": {},
   "outputs": [],
   "source": [
    "#Convert Birthdays to Datetime and Create Separate Column\n",
    "nba_stats_copy['Birthday'] = nba_stats_copy['Born'].apply(lambda x: None if x == None else getBday(x))\n",
    "nba_stats_copy['Birthday'] = pd.to_datetime(nba_stats_copy['Birthday'])"
   ]
  },
  {
   "cell_type": "code",
   "execution_count": 1031,
   "id": "d78e5173",
   "metadata": {},
   "outputs": [],
   "source": [
    "def getBirthPlace(x):\n",
    "    \n",
    "    if isinstance(x,float):\n",
    "        return None\n",
    "    \n",
    "    pattern = re.compile(r\"'(.*?)'\",re.IGNORECASE)\n",
    "    matches = pattern.findall(x)\n",
    "    \n",
    "    if len(matches) == 2:\n",
    "        return matches[1]\n",
    "    else:\n",
    "        matches = re.split('\\d\\d\\d\\d',x.replace(\"']\",\"\"))\n",
    "        return matches[-1]"
   ]
  },
  {
   "cell_type": "code",
   "execution_count": 1032,
   "id": "7085ae4a",
   "metadata": {},
   "outputs": [],
   "source": [
    "nba_stats_copy[\"Birthplace\"] = nba_stats_copy['Born'].apply(lambda x: None if x == None else getBirthPlace(x))"
   ]
  },
  {
   "cell_type": "markdown",
   "id": "96ce0350",
   "metadata": {},
   "source": [
    "### American?"
   ]
  },
  {
   "cell_type": "code",
   "execution_count": 1033,
   "id": "390285b0",
   "metadata": {},
   "outputs": [],
   "source": [
    "state_names = [\"Alaska\", \"Alabama\", \"Arkansas\", \"American Samoa\", \"Arizona\", \"California\",\n",
    "               \"Colorado\", \"Connecticut\", \"District \", \"of Columbia\", \"Delaware\", \"Florida\",\n",
    "               \"Georgia\", \"Guam\", \"Hawaii\", \"Iowa\", \"Idaho\", \"Illinois\", \"Indiana\", \"Kansas\",\n",
    "               \"Kentucky\", \"Louisiana\", \"Massachusetts\", \"Maryland\", \"Maine\", \"Michigan\", \"Minnesota\",\n",
    "               \"Missouri\", \"Mississippi\", \"Montana\", \"North Carolina\", \"North Dakota\", \"Nebraska\", \"New Hampshire\",\n",
    "               \"New Jersey\", \"New Mexico\", \"Nevada\", \"New York\", \"Ohio\", \"Oklahoma\", \"Oregon\", \"Pennsylvania\",\n",
    "               \"Puerto Rico\", \"Rhode Island\", \"South Carolina\", \"South Dakota\", \"Tennessee\", \"Texas\", \"Utah\",\n",
    "               \"Virginia\", \"Virgin Islands\", \"Vermont\", \"Washington\", \"Wisconsin\", \"West Virginia\", \"Wyoming\"]"
   ]
  },
  {
   "cell_type": "code",
   "execution_count": 1034,
   "id": "7b39d0df",
   "metadata": {},
   "outputs": [],
   "source": [
    "def bornInUS(x):\n",
    "    if 'U.S.' in x:\n",
    "        return 1\n",
    "    else:\n",
    "        for item in x.split(', '):\n",
    "            if item in state_names:\n",
    "                return 1\n",
    "        return 0"
   ]
  },
  {
   "cell_type": "code",
   "execution_count": 1035,
   "id": "06ccef65",
   "metadata": {},
   "outputs": [],
   "source": [
    "nba_stats_copy['American'] = nba_stats_copy['Birthplace'].apply(lambda x: None if x == None else bornInUS(x))"
   ]
  },
  {
   "cell_type": "code",
   "execution_count": 1036,
   "id": "85e32554",
   "metadata": {},
   "outputs": [],
   "source": [
    "#Fill in Nationality as American if We Know They Were Born in America\n",
    "all_american = nba_stats_copy[nba_stats_copy[\"American\"] == 1].index"
   ]
  },
  {
   "cell_type": "code",
   "execution_count": 1037,
   "id": "8e2a4d23",
   "metadata": {},
   "outputs": [],
   "source": [
    "nba_stats_copy.loc[all_american,'Nationality'] = 'American'"
   ]
  },
  {
   "cell_type": "markdown",
   "id": "6a66ceff",
   "metadata": {},
   "source": [
    "### Career Start, Career End"
   ]
  },
  {
   "cell_type": "code",
   "execution_count": 1038,
   "id": "9883bae5",
   "metadata": {},
   "outputs": [],
   "source": [
    "def StartPlaying(x):\n",
    "    if isinstance(x,float):\n",
    "        return None\n",
    "    else:\n",
    "        return x.split('–')[0][-4:]"
   ]
  },
  {
   "cell_type": "code",
   "execution_count": 1039,
   "id": "94c900f2",
   "metadata": {},
   "outputs": [],
   "source": [
    "def EndPlaying(x):\n",
    "    if isinstance(x,float):\n",
    "        return None\n",
    "    else:\n",
    "        if \"present\" in x:\n",
    "            return datetime.date.today().year\n",
    "        else:\n",
    "            return x.split('–')[-1][-4:]"
   ]
  },
  {
   "cell_type": "code",
   "execution_count": 1040,
   "id": "6f7eb35f",
   "metadata": {},
   "outputs": [],
   "source": [
    "#Separate CareerYears into Start and End Years for Career\n",
    "nba_stats_copy[\"CareerStart\"] = nba_stats_copy['CareerYears'].apply(lambda x: None if x == None else StartPlaying(x))\n",
    "nba_stats_copy[\"CareerEnd\"] = nba_stats_copy['CareerYears'].apply(lambda x: None if x == None else EndPlaying(x))"
   ]
  },
  {
   "cell_type": "code",
   "execution_count": 1041,
   "id": "45289cf3",
   "metadata": {
    "scrolled": true
   },
   "outputs": [],
   "source": [
    "nba_stats_copy[['Year','Draft','CareerEnd','CareerStart']] = nba_stats_copy[['Year','Draft','CareerEnd','CareerStart']].astype('float')"
   ]
  },
  {
   "cell_type": "markdown",
   "id": "1f6d3511",
   "metadata": {},
   "source": [
    "### Height, Weight"
   ]
  },
  {
   "cell_type": "code",
   "execution_count": 1042,
   "id": "5c6dc254",
   "metadata": {},
   "outputs": [],
   "source": [
    "def getHeight(x):\n",
    "    \n",
    "    if x is None:\n",
    "        return None\n",
    "    \n",
    "    pattern_ht = re.compile(r\"\\d{1,2} ft \\d{1,2} in\", re.IGNORECASE)\n",
    "    \n",
    "    if pattern_ht.match(str(x)) != None:\n",
    "        \n",
    "        spl_lst = pattern_ht.match(str(x)).group(0).split('ft')\n",
    "        feet_to_inch = int(spl_lst[0].strip()) * 12\n",
    "        inches = int(spl_lst[1].replace('in','').strip())\n",
    "        \n",
    "        return feet_to_inch + inches\n",
    "    else:\n",
    "        return None"
   ]
  },
  {
   "cell_type": "code",
   "execution_count": 1043,
   "id": "0447dfa4",
   "metadata": {},
   "outputs": [],
   "source": [
    "def getWeight(x):\n",
    "    \n",
    "    if x is None:\n",
    "        return None\n",
    "    \n",
    "    pattern_ht = re.compile(r\"\\d{1,3} lb\", re.IGNORECASE)\n",
    "    \n",
    "    if pattern_ht.match(str(x)) != None:\n",
    "        \n",
    "        lbs = pattern_ht.match(str(x)).group(0).replace('lb','')\n",
    "        \n",
    "        return int(lbs.strip())\n",
    "    else:\n",
    "        return None"
   ]
  },
  {
   "cell_type": "code",
   "execution_count": 1044,
   "id": "b54a19c6",
   "metadata": {},
   "outputs": [],
   "source": [
    "nba_stats_copy['Height (in)'] = nba_stats_copy['Height'].apply(lambda x: None if x is None else getHeight(x))\n",
    "nba_stats_copy['Weight (lbs)'] = nba_stats_copy['Weight'].apply(lambda x: None if x is None else getWeight(x))"
   ]
  },
  {
   "cell_type": "markdown",
   "id": "58089f5a",
   "metadata": {},
   "source": [
    "### High Schools, High School Cities and States "
   ]
  },
  {
   "cell_type": "code",
   "execution_count": 1045,
   "id": "051070f2",
   "metadata": {},
   "outputs": [],
   "source": [
    "def getHighSchool(x):\n",
    "    \n",
    "    if x is None:\n",
    "        return None\n",
    "    \n",
    "    else:\n",
    "        x = re.sub('\\d{1-3}', '', x)\n",
    "        x = x.strip('[]').split(\"', \")\n",
    "        x = [re.sub(r'\\[\\d{1,3}\\]','',i).strip(\"''\") for i in x]\n",
    "        x = [re.sub(r'\\([^)]*, [^)]*\\)','',i) for i in x]\n",
    "            \n",
    "        \n",
    "        if len(x) == 1:\n",
    "            return x[0], None, None, None\n",
    "        if len(x) == 2:\n",
    "            return x[0], x[1], None, None\n",
    "        if len(x) == 3:\n",
    "            return x[0], x[1], x[2], None\n",
    "        if len(x) == 4:\n",
    "            return x[0], x[1], x[2], x[3]\n",
    "        else:\n",
    "            return None, None, None, None"
   ]
  },
  {
   "cell_type": "code",
   "execution_count": 1046,
   "id": "7a6d347a",
   "metadata": {},
   "outputs": [],
   "source": [
    "a = nba_stats_copy['Highschool'].apply(lambda x: None if x is None else getHighSchool(x)[0])\n",
    "b = nba_stats_copy['Highschool'].apply(lambda x: None if x is None else getHighSchool(x)[1])\n",
    "c = nba_stats_copy['Highschool'].apply(lambda x: None if x is None else getHighSchool(x)[2])\n",
    "d = nba_stats_copy['Highschool'].apply(lambda x: None if x is None else getHighSchool(x)[3])"
   ]
  },
  {
   "cell_type": "code",
   "execution_count": 1047,
   "id": "de403405",
   "metadata": {},
   "outputs": [],
   "source": [
    "nba_stats_copy = pd.concat([nba_stats_copy,a,b,c,d],axis=1)\n",
    "nba_stats_copy.columns.values[-4:] = ['HS1', 'HS2', 'HS3', 'HS4']"
   ]
  },
  {
   "cell_type": "code",
   "execution_count": 1048,
   "id": "519b4e88",
   "metadata": {},
   "outputs": [],
   "source": [
    "def getHSCity(x):\n",
    "    \n",
    "    if x is None:\n",
    "        return None, None, None, None\n",
    "    \n",
    "    pattern = re.compile(r'\\([^)]*, [^)]*\\)',re.IGNORECASE)\n",
    "    \n",
    "    if pattern.findall(str(x)) != None:\n",
    "        \n",
    "        match = pattern.findall(str(x))\n",
    "        \n",
    "        if len(match) == 1:\n",
    "            return match[0], None, None, None\n",
    "        if len(match) == 2:\n",
    "            return match[0], match[1], None, None\n",
    "        if len(match) == 3:\n",
    "            return match[0], match[1], match[2], None\n",
    "        if len(match) == 4:\n",
    "            return match[0], match[1], match[2], match[3]\n",
    "        else:\n",
    "            return None, None, None, None"
   ]
  },
  {
   "cell_type": "code",
   "execution_count": 1049,
   "id": "2f82b319",
   "metadata": {},
   "outputs": [],
   "source": [
    "a = nba_stats_copy['Highschool'].apply(lambda x: None if isinstance(x,str)==False else getHSCity(x)[0])\n",
    "b = nba_stats_copy['Highschool'].apply(lambda x: None if isinstance(x,str)==False else getHSCity(x)[1])\n",
    "c = nba_stats_copy['Highschool'].apply(lambda x: None if isinstance(x,str)==False else getHSCity(x)[2])\n",
    "d = nba_stats_copy['Highschool'].apply(lambda x: None if isinstance(x,str)==False else getHSCity(x)[3])"
   ]
  },
  {
   "cell_type": "code",
   "execution_count": 1050,
   "id": "c8e2f11e",
   "metadata": {},
   "outputs": [],
   "source": [
    "nba_stats_copy = pd.concat([nba_stats_copy,a,b,c,d],axis=1)\n",
    "nba_stats_copy.columns.values[-4:] = ['HSC1', 'HSC2', 'HSC3', 'HSC4']"
   ]
  },
  {
   "cell_type": "code",
   "execution_count": 1051,
   "id": "207e3adb",
   "metadata": {},
   "outputs": [],
   "source": [
    "nba_stats_copy['HSC1'] = nba_stats_copy['HSC1'].apply(lambda x: None if x is None else x.strip('()'))\n",
    "nba_stats_copy['HSC2'] = nba_stats_copy['HSC2'].apply(lambda x: None if x is None else x.strip('()'))\n",
    "nba_stats_copy['HSC3'] = nba_stats_copy['HSC3'].apply(lambda x: None if x is None else x.strip('()'))\n",
    "nba_stats_copy['HSC4'] = nba_stats_copy['HSC4'].apply(lambda x: None if x is None else x.strip('()'))"
   ]
  },
  {
   "cell_type": "markdown",
   "id": "22d77013",
   "metadata": {},
   "source": [
    "### Highschool in US "
   ]
  },
  {
   "cell_type": "code",
   "execution_count": 1052,
   "id": "c01cb14d",
   "metadata": {},
   "outputs": [],
   "source": [
    "def inUS(x):\n",
    "    place = x.split(', ')[-1]\n",
    "    if place not in state_names:\n",
    "        return False\n",
    "    else:\n",
    "        return True"
   ]
  },
  {
   "cell_type": "code",
   "execution_count": 1053,
   "id": "7613b5ed",
   "metadata": {},
   "outputs": [],
   "source": [
    "a = nba_stats_copy['HSC1'].apply(lambda x: None if x is None else inUS(x))\n",
    "b = nba_stats_copy['HSC2'].apply(lambda x: None if x is None else inUS(x))\n",
    "c = nba_stats_copy['HSC3'].apply(lambda x: None if x is None else inUS(x))\n",
    "d = nba_stats_copy['HSC4'].apply(lambda x: None if x is None else inUS(x))"
   ]
  },
  {
   "cell_type": "code",
   "execution_count": 1054,
   "id": "d48af94c",
   "metadata": {},
   "outputs": [],
   "source": [
    "instates = []\n",
    "for n in range(len(nba_stats_copy)):\n",
    "    check = [a[n],b[n],c[n],d[n]]\n",
    "    \n",
    "    #If we find one place outside the US then automatically False\n",
    "    if False in check:\n",
    "        instates.append(0)\n",
    "    else:\n",
    "        #If we find no True then it is None since we eliminated all Falses already\n",
    "        if True not in check:\n",
    "            instates.append(None)\n",
    "        #Since there are none that have Falses and we got rid of ones where they had no schools listed, the rest are true\n",
    "        else:\n",
    "            instates.append(1)"
   ]
  },
  {
   "cell_type": "code",
   "execution_count": 1055,
   "id": "c0e7cbda",
   "metadata": {},
   "outputs": [],
   "source": [
    "nba_stats_copy['USHS'] = instates"
   ]
  },
  {
   "cell_type": "markdown",
   "id": "9111f054",
   "metadata": {},
   "source": [
    "# Colleges"
   ]
  },
  {
   "cell_type": "code",
   "execution_count": 1056,
   "id": "10e7423b",
   "metadata": {},
   "outputs": [],
   "source": [
    "def getCleanCol(x):\n",
    "    \n",
    "    #Grab Whitespaces and Alphabetic Items\n",
    "    pattern = re.compile(r\"[^]^[^'^(^)]\",re.IGNORECASE)\n",
    "    s=''\n",
    "    #Combine Those Items from above into string s\n",
    "    if pattern.findall(str(x)) != None:\n",
    "        for item in pattern.findall(str(x)):\n",
    "            s+=item    \n",
    "    \n",
    "    #Split string into list at the years and remove years\n",
    "    match = re.split('\\d\\d\\d\\d.\\d\\d\\d\\d',s)\n",
    "    \n",
    "    #Remove values from list which == ''\n",
    "    match = list(filter(None,match))\n",
    "    \n",
    "    match = [i.strip() for i in match]\n",
    "    match = [i.replace(', ','') for i in match]\n",
    "            \n",
    "    return match"
   ]
  },
  {
   "cell_type": "code",
   "execution_count": 1057,
   "id": "3bcef395",
   "metadata": {},
   "outputs": [],
   "source": [
    "def getCollege(x):\n",
    "    \n",
    "    #Check null\n",
    "    if isinstance(x,float):\n",
    "        return None, None, None, None\n",
    "    \n",
    "    else:\n",
    "        x = getCleanCol(x)\n",
    "        \n",
    "        if len(x) == 1:\n",
    "            return x[0], None, None, None\n",
    "        if len(x) == 2:\n",
    "            return x[0], x[1], None, None\n",
    "        if len(x) == 3:\n",
    "            return x[0], x[1], x[2], None\n",
    "        if len(x) == 4:\n",
    "            return x[0], x[1], x[2], x[3]\n",
    "        else:\n",
    "            return None, None, None, None\n"
   ]
  },
  {
   "cell_type": "code",
   "execution_count": 1058,
   "id": "8d927fcd",
   "metadata": {},
   "outputs": [],
   "source": [
    "nba_stats_copy['College1'] = nba_stats_copy['College_y'].apply(lambda x: None if isinstance(x,str)==False else getCollege(x)[0])\n",
    "nba_stats_copy['College2'] = nba_stats_copy['College_y'].apply(lambda x: None if isinstance(x,str)==False else getCollege(x)[1])\n",
    "nba_stats_copy['College3'] = nba_stats_copy['College_y'].apply(lambda x: None if isinstance(x,str)==False else getCollege(x)[2])\n",
    "nba_stats_copy['College4'] = nba_stats_copy['College_y'].apply(lambda x: None if isinstance(x,str)==False else getCollege(x)[3])"
   ]
  },
  {
   "cell_type": "code",
   "execution_count": 1059,
   "id": "4f2bfbec",
   "metadata": {},
   "outputs": [],
   "source": [
    "def getCollegeYrs(x):\n",
    "    \n",
    "    #Check null\n",
    "    if isinstance(x,float):\n",
    "        return None, None, None, None\n",
    "    \n",
    "    #Pattern\n",
    "    pattern = re.compile(r'\\d\\d\\d\\d–\\d\\d\\d\\d',re.IGNORECASE)\n",
    "    \n",
    "    #If found something in x with pattern\n",
    "    if pattern.findall(str(x)) != None:\n",
    "        \n",
    "        #Get list of matches\n",
    "        match = pattern.findall(str(x))\n",
    "        match = [i.replace('–','-') for i in match]\n",
    "        \n",
    "        if len(match) == 1:\n",
    "            return match[0], None, None, None\n",
    "        if len(match) == 2:\n",
    "            return match[0], match[1], None, None\n",
    "        if len(match) == 3:\n",
    "            return match[0], match[1], match[2], None\n",
    "        if len(match) == 4:\n",
    "            return match[0], match[1], match[2], match[3]\n",
    "        else:\n",
    "            return None, None, None, None"
   ]
  },
  {
   "cell_type": "code",
   "execution_count": 1060,
   "id": "a855d44a",
   "metadata": {},
   "outputs": [],
   "source": [
    "nba_stats_copy['CollegeY1'] = nba_stats_copy['College_y'].apply(lambda x: None if isinstance(x,str)==False else getCollegeYrs(x)[0])\n",
    "nba_stats_copy['CollegeY2'] = nba_stats_copy['College_y'].apply(lambda x: None if isinstance(x,str)==False else getCollegeYrs(x)[1])\n",
    "nba_stats_copy['CollegeY3'] = nba_stats_copy['College_y'].apply(lambda x: None if isinstance(x,str)==False else getCollegeYrs(x)[2])\n",
    "nba_stats_copy['CollegeY4'] = nba_stats_copy['College_y'].apply(lambda x: None if isinstance(x,str)==False else getCollegeYrs(x)[3])"
   ]
  },
  {
   "cell_type": "markdown",
   "id": "793f8b06",
   "metadata": {},
   "source": [
    "### Fixing History Section "
   ]
  },
  {
   "cell_type": "code",
   "execution_count": 1061,
   "id": "8f77ed04",
   "metadata": {},
   "outputs": [],
   "source": [
    "def getHist(x):\n",
    "    \n",
    "    if isinstance(x,float):\n",
    "        return None\n",
    "    x_list = x.replace('–','-').strip('][').split(\"\\', \")\n",
    "    x_list = [i.strip(\"'':\").strip('\"\"') for i in x_list]\n",
    "    \n",
    "    if len(x_list) == 1:\n",
    "        return x_list[0]\n",
    "    \n",
    "    global a,b\n",
    "    a,b = 0, len(x_list)\n",
    "    \n",
    "    for item in x_list:\n",
    "        if \"as player\" in item.lower():\n",
    "            a = x_list.index(item) + 1\n",
    "        if \"As coach\" in item:\n",
    "            b = x_list.index(item)\n",
    "            break\n",
    "        elif \"career highlights\" in item.lower():\n",
    "            b = x_list.index(item)\n",
    "            break\n",
    "        else:\n",
    "            b = len(x_list)\n",
    "\n",
    "    return x_list[a:b]"
   ]
  },
  {
   "cell_type": "code",
   "execution_count": 1062,
   "id": "04381dd5",
   "metadata": {},
   "outputs": [],
   "source": [
    "nba_stats_copy['Teams'] = nba_stats_copy['History'].apply(lambda x: None if x is None else getHist(x))"
   ]
  },
  {
   "cell_type": "markdown",
   "id": "faea43ae",
   "metadata": {},
   "source": [
    "# Final Cleaned DataFrame"
   ]
  },
  {
   "cell_type": "code",
   "execution_count": 1063,
   "id": "d67d0cb1",
   "metadata": {},
   "outputs": [
    {
     "data": {
      "text/html": [
       "<div>\n",
       "<style scoped>\n",
       "    .dataframe tbody tr th:only-of-type {\n",
       "        vertical-align: middle;\n",
       "    }\n",
       "\n",
       "    .dataframe tbody tr th {\n",
       "        vertical-align: top;\n",
       "    }\n",
       "\n",
       "    .dataframe thead th {\n",
       "        text-align: right;\n",
       "    }\n",
       "</style>\n",
       "<table border=\"1\" class=\"dataframe\">\n",
       "  <thead>\n",
       "    <tr style=\"text-align: right;\">\n",
       "      <th></th>\n",
       "      <th>Year</th>\n",
       "      <th>FirstName</th>\n",
       "      <th>LastName</th>\n",
       "      <th>Name</th>\n",
       "      <th>Nationality</th>\n",
       "      <th>American</th>\n",
       "      <th>Draft</th>\n",
       "      <th>Birthday</th>\n",
       "      <th>Birthplace</th>\n",
       "      <th>CareerStart</th>\n",
       "      <th>...</th>\n",
       "      <th>USHS</th>\n",
       "      <th>CollegeY1</th>\n",
       "      <th>CollegeY2</th>\n",
       "      <th>CollegeY3</th>\n",
       "      <th>CollegeY4</th>\n",
       "      <th>College1</th>\n",
       "      <th>College2</th>\n",
       "      <th>College3</th>\n",
       "      <th>College4</th>\n",
       "      <th>Teams</th>\n",
       "    </tr>\n",
       "  </thead>\n",
       "  <tbody>\n",
       "    <tr>\n",
       "      <th>0</th>\n",
       "      <td>1999.0</td>\n",
       "      <td>Tariq</td>\n",
       "      <td>Abdul-Wahad</td>\n",
       "      <td>Abdul-Wahad,Tariq</td>\n",
       "      <td>None</td>\n",
       "      <td>0.0</td>\n",
       "      <td>1997.0</td>\n",
       "      <td>1974-11-03</td>\n",
       "      <td>Maisons-Alfort, Val-de-Marne, France</td>\n",
       "      <td>1997.0</td>\n",
       "      <td>...</td>\n",
       "      <td>0.0</td>\n",
       "      <td>1993-1994</td>\n",
       "      <td>1995-1997</td>\n",
       "      <td>None</td>\n",
       "      <td>None</td>\n",
       "      <td>Michigan</td>\n",
       "      <td>San Jose State</td>\n",
       "      <td>None</td>\n",
       "      <td>None</td>\n",
       "      <td>[1997-1999Sacramento Kings, 1999-2000Orlando M...</td>\n",
       "    </tr>\n",
       "    <tr>\n",
       "      <th>1651</th>\n",
       "      <td>1999.0</td>\n",
       "      <td>Tyrone</td>\n",
       "      <td>Nesby</td>\n",
       "      <td>Nesby,Tyrone</td>\n",
       "      <td>American</td>\n",
       "      <td>1.0</td>\n",
       "      <td>1998.0</td>\n",
       "      <td>1976-01-31</td>\n",
       "      <td>Cairo, Illinois</td>\n",
       "      <td>1998.0</td>\n",
       "      <td>...</td>\n",
       "      <td>1.0</td>\n",
       "      <td>1994-1996</td>\n",
       "      <td>1996-1998</td>\n",
       "      <td>None</td>\n",
       "      <td>None</td>\n",
       "      <td>Vincennes</td>\n",
       "      <td>UNLV</td>\n",
       "      <td>None</td>\n",
       "      <td>None</td>\n",
       "      <td>[1998-1999Sioux Falls Skyforce, 1999-2000Los A...</td>\n",
       "    </tr>\n",
       "    <tr>\n",
       "      <th>1635</th>\n",
       "      <td>1999.0</td>\n",
       "      <td>Steve</td>\n",
       "      <td>Nash</td>\n",
       "      <td>Nash,Steve</td>\n",
       "      <td>Canadian</td>\n",
       "      <td>0.0</td>\n",
       "      <td>1996.0</td>\n",
       "      <td>1974-02-07</td>\n",
       "      <td>Johannesburg, South Africa</td>\n",
       "      <td>1996.0</td>\n",
       "      <td>...</td>\n",
       "      <td>0.0</td>\n",
       "      <td>1992-1996</td>\n",
       "      <td>None</td>\n",
       "      <td>None</td>\n",
       "      <td>None</td>\n",
       "      <td>Santa Clara</td>\n",
       "      <td>None</td>\n",
       "      <td>None</td>\n",
       "      <td>None</td>\n",
       "      <td>[1996-1998Phoenix Suns, 1998-2004Dallas Maveri...</td>\n",
       "    </tr>\n",
       "    <tr>\n",
       "      <th>450</th>\n",
       "      <td>1999.0</td>\n",
       "      <td>Marty</td>\n",
       "      <td>Conlon</td>\n",
       "      <td>Conlon,Marty</td>\n",
       "      <td>American</td>\n",
       "      <td>1.0</td>\n",
       "      <td>1990.0</td>\n",
       "      <td>1968-01-19</td>\n",
       "      <td>The Bronx, New York, U.S.</td>\n",
       "      <td>1990.0</td>\n",
       "      <td>...</td>\n",
       "      <td>1.0</td>\n",
       "      <td>1986-1990</td>\n",
       "      <td>None</td>\n",
       "      <td>None</td>\n",
       "      <td>None</td>\n",
       "      <td>Providence</td>\n",
       "      <td>None</td>\n",
       "      <td>None</td>\n",
       "      <td>None</td>\n",
       "      <td>[1990Le Mans, 1990-1991Rockford Lightning, 199...</td>\n",
       "    </tr>\n",
       "    <tr>\n",
       "      <th>1634</th>\n",
       "      <td>1999.0</td>\n",
       "      <td>Makhtar</td>\n",
       "      <td>N'Diaye</td>\n",
       "      <td>N'Diaye,Makhtar</td>\n",
       "      <td>Senegalese</td>\n",
       "      <td>0.0</td>\n",
       "      <td>1998.0</td>\n",
       "      <td>1973-12-12</td>\n",
       "      <td>Diourbel, Senegal</td>\n",
       "      <td>1998.0</td>\n",
       "      <td>...</td>\n",
       "      <td>1.0</td>\n",
       "      <td>1993-1995</td>\n",
       "      <td>1996-1998</td>\n",
       "      <td>None</td>\n",
       "      <td>None</td>\n",
       "      <td>Michigan</td>\n",
       "      <td>North Carolina</td>\n",
       "      <td>None</td>\n",
       "      <td>None</td>\n",
       "      <td>None</td>\n",
       "    </tr>\n",
       "  </tbody>\n",
       "</table>\n",
       "<p>5 rows × 31 columns</p>\n",
       "</div>"
      ],
      "text/plain": [
       "        Year FirstName     LastName               Name Nationality  American  \\\n",
       "0     1999.0     Tariq  Abdul-Wahad  Abdul-Wahad,Tariq        None       0.0   \n",
       "1651  1999.0    Tyrone        Nesby       Nesby,Tyrone    American       1.0   \n",
       "1635  1999.0     Steve         Nash         Nash,Steve    Canadian       0.0   \n",
       "450   1999.0     Marty       Conlon       Conlon,Marty    American       1.0   \n",
       "1634  1999.0   Makhtar      N'Diaye    N'Diaye,Makhtar  Senegalese       0.0   \n",
       "\n",
       "       Draft   Birthday                            Birthplace  CareerStart  \\\n",
       "0     1997.0 1974-11-03  Maisons-Alfort, Val-de-Marne, France       1997.0   \n",
       "1651  1998.0 1976-01-31                       Cairo, Illinois       1998.0   \n",
       "1635  1996.0 1974-02-07            Johannesburg, South Africa       1996.0   \n",
       "450   1990.0 1968-01-19             The Bronx, New York, U.S.       1990.0   \n",
       "1634  1998.0 1973-12-12                     Diourbel, Senegal       1998.0   \n",
       "\n",
       "      ...  USHS  CollegeY1  CollegeY2 CollegeY3 CollegeY4     College1  \\\n",
       "0     ...   0.0  1993-1994  1995-1997      None      None     Michigan   \n",
       "1651  ...   1.0  1994-1996  1996-1998      None      None    Vincennes   \n",
       "1635  ...   0.0  1992-1996       None      None      None  Santa Clara   \n",
       "450   ...   1.0  1986-1990       None      None      None   Providence   \n",
       "1634  ...   1.0  1993-1995  1996-1998      None      None     Michigan   \n",
       "\n",
       "            College2 College3 College4  \\\n",
       "0     San Jose State     None     None   \n",
       "1651            UNLV     None     None   \n",
       "1635            None     None     None   \n",
       "450             None     None     None   \n",
       "1634  North Carolina     None     None   \n",
       "\n",
       "                                                  Teams  \n",
       "0     [1997-1999Sacramento Kings, 1999-2000Orlando M...  \n",
       "1651  [1998-1999Sioux Falls Skyforce, 1999-2000Los A...  \n",
       "1635  [1996-1998Phoenix Suns, 1998-2004Dallas Maveri...  \n",
       "450   [1990Le Mans, 1990-1991Rockford Lightning, 199...  \n",
       "1634                                               None  \n",
       "\n",
       "[5 rows x 31 columns]"
      ]
     },
     "execution_count": 1063,
     "metadata": {},
     "output_type": "execute_result"
    }
   ],
   "source": [
    "final_cleaned = nba_stats_copy[['Year','FirstName','LastName','Name','Nationality','American','Draft','Birthday',\n",
    "                'Birthplace', 'CareerStart', 'CareerEnd','Height (in)', 'Weight (lbs)',\n",
    "                'HS1', 'HS2', 'HS3', 'HS4', 'HSC1','HSC2', 'HSC3', 'HSC4', 'USHS',\n",
    "                'CollegeY1', 'CollegeY2', 'CollegeY3','CollegeY4', 'College1', 'College2',\n",
    "                'College3', 'College4',\"Teams\"]].sort_values('Year')\n",
    "final_cleaned.head()"
   ]
  },
  {
   "cell_type": "code",
   "execution_count": 1064,
   "id": "4ca142da",
   "metadata": {},
   "outputs": [
    {
     "ename": "PermissionError",
     "evalue": "[Errno 13] Permission denied: 'C:\\\\Users\\\\finnr\\\\Downloads\\\\Zhao McIntire Research\\\\nba_personal_info_cleaned.csv'",
     "output_type": "error",
     "traceback": [
      "\u001b[1;31m---------------------------------------------------------------------------\u001b[0m",
      "\u001b[1;31mPermissionError\u001b[0m                           Traceback (most recent call last)",
      "\u001b[1;32m~\\AppData\\Local\\Temp/ipykernel_44228/3305694372.py\u001b[0m in \u001b[0;36m<module>\u001b[1;34m\u001b[0m\n\u001b[1;32m----> 1\u001b[1;33m \u001b[0mfinal_cleaned\u001b[0m\u001b[1;33m.\u001b[0m\u001b[0mto_csv\u001b[0m\u001b[1;33m(\u001b[0m\u001b[1;34m'C:\\\\Users\\\\finnr\\\\Downloads\\\\Zhao McIntire Research\\\\nba_personal_info_cleaned.csv'\u001b[0m\u001b[1;33m)\u001b[0m\u001b[1;33m\u001b[0m\u001b[1;33m\u001b[0m\u001b[0m\n\u001b[0m",
      "\u001b[1;32m~\\anaconda3\\anaconda\\lib\\site-packages\\pandas\\core\\generic.py\u001b[0m in \u001b[0;36mto_csv\u001b[1;34m(self, path_or_buf, sep, na_rep, float_format, columns, header, index, index_label, mode, encoding, compression, quoting, quotechar, line_terminator, chunksize, date_format, doublequote, escapechar, decimal, errors, storage_options)\u001b[0m\n\u001b[0;32m   3464\u001b[0m         )\n\u001b[0;32m   3465\u001b[0m \u001b[1;33m\u001b[0m\u001b[0m\n\u001b[1;32m-> 3466\u001b[1;33m         return DataFrameRenderer(formatter).to_csv(\n\u001b[0m\u001b[0;32m   3467\u001b[0m             \u001b[0mpath_or_buf\u001b[0m\u001b[1;33m,\u001b[0m\u001b[1;33m\u001b[0m\u001b[1;33m\u001b[0m\u001b[0m\n\u001b[0;32m   3468\u001b[0m             \u001b[0mline_terminator\u001b[0m\u001b[1;33m=\u001b[0m\u001b[0mline_terminator\u001b[0m\u001b[1;33m,\u001b[0m\u001b[1;33m\u001b[0m\u001b[1;33m\u001b[0m\u001b[0m\n",
      "\u001b[1;32m~\\anaconda3\\anaconda\\lib\\site-packages\\pandas\\io\\formats\\format.py\u001b[0m in \u001b[0;36mto_csv\u001b[1;34m(self, path_or_buf, encoding, sep, columns, index_label, mode, compression, quoting, quotechar, line_terminator, chunksize, date_format, doublequote, escapechar, errors, storage_options)\u001b[0m\n\u001b[0;32m   1103\u001b[0m             \u001b[0mformatter\u001b[0m\u001b[1;33m=\u001b[0m\u001b[0mself\u001b[0m\u001b[1;33m.\u001b[0m\u001b[0mfmt\u001b[0m\u001b[1;33m,\u001b[0m\u001b[1;33m\u001b[0m\u001b[1;33m\u001b[0m\u001b[0m\n\u001b[0;32m   1104\u001b[0m         )\n\u001b[1;32m-> 1105\u001b[1;33m         \u001b[0mcsv_formatter\u001b[0m\u001b[1;33m.\u001b[0m\u001b[0msave\u001b[0m\u001b[1;33m(\u001b[0m\u001b[1;33m)\u001b[0m\u001b[1;33m\u001b[0m\u001b[1;33m\u001b[0m\u001b[0m\n\u001b[0m\u001b[0;32m   1106\u001b[0m \u001b[1;33m\u001b[0m\u001b[0m\n\u001b[0;32m   1107\u001b[0m         \u001b[1;32mif\u001b[0m \u001b[0mcreated_buffer\u001b[0m\u001b[1;33m:\u001b[0m\u001b[1;33m\u001b[0m\u001b[1;33m\u001b[0m\u001b[0m\n",
      "\u001b[1;32m~\\anaconda3\\anaconda\\lib\\site-packages\\pandas\\io\\formats\\csvs.py\u001b[0m in \u001b[0;36msave\u001b[1;34m(self)\u001b[0m\n\u001b[0;32m    235\u001b[0m         \"\"\"\n\u001b[0;32m    236\u001b[0m         \u001b[1;31m# apply compression and byte/text conversion\u001b[0m\u001b[1;33m\u001b[0m\u001b[1;33m\u001b[0m\u001b[0m\n\u001b[1;32m--> 237\u001b[1;33m         with get_handle(\n\u001b[0m\u001b[0;32m    238\u001b[0m             \u001b[0mself\u001b[0m\u001b[1;33m.\u001b[0m\u001b[0mfilepath_or_buffer\u001b[0m\u001b[1;33m,\u001b[0m\u001b[1;33m\u001b[0m\u001b[1;33m\u001b[0m\u001b[0m\n\u001b[0;32m    239\u001b[0m             \u001b[0mself\u001b[0m\u001b[1;33m.\u001b[0m\u001b[0mmode\u001b[0m\u001b[1;33m,\u001b[0m\u001b[1;33m\u001b[0m\u001b[1;33m\u001b[0m\u001b[0m\n",
      "\u001b[1;32m~\\anaconda3\\anaconda\\lib\\site-packages\\pandas\\io\\common.py\u001b[0m in \u001b[0;36mget_handle\u001b[1;34m(path_or_buf, mode, encoding, compression, memory_map, is_text, errors, storage_options)\u001b[0m\n\u001b[0;32m    700\u001b[0m         \u001b[1;32mif\u001b[0m \u001b[0mioargs\u001b[0m\u001b[1;33m.\u001b[0m\u001b[0mencoding\u001b[0m \u001b[1;32mand\u001b[0m \u001b[1;34m\"b\"\u001b[0m \u001b[1;32mnot\u001b[0m \u001b[1;32min\u001b[0m \u001b[0mioargs\u001b[0m\u001b[1;33m.\u001b[0m\u001b[0mmode\u001b[0m\u001b[1;33m:\u001b[0m\u001b[1;33m\u001b[0m\u001b[1;33m\u001b[0m\u001b[0m\n\u001b[0;32m    701\u001b[0m             \u001b[1;31m# Encoding\u001b[0m\u001b[1;33m\u001b[0m\u001b[1;33m\u001b[0m\u001b[0m\n\u001b[1;32m--> 702\u001b[1;33m             handle = open(\n\u001b[0m\u001b[0;32m    703\u001b[0m                 \u001b[0mhandle\u001b[0m\u001b[1;33m,\u001b[0m\u001b[1;33m\u001b[0m\u001b[1;33m\u001b[0m\u001b[0m\n\u001b[0;32m    704\u001b[0m                 \u001b[0mioargs\u001b[0m\u001b[1;33m.\u001b[0m\u001b[0mmode\u001b[0m\u001b[1;33m,\u001b[0m\u001b[1;33m\u001b[0m\u001b[1;33m\u001b[0m\u001b[0m\n",
      "\u001b[1;31mPermissionError\u001b[0m: [Errno 13] Permission denied: 'C:\\\\Users\\\\finnr\\\\Downloads\\\\Zhao McIntire Research\\\\nba_personal_info_cleaned.csv'"
     ]
    }
   ],
   "source": [
    "final_cleaned.to_csv('C:\\\\Users\\\\finnr\\\\Downloads\\\\Zhao McIntire Research\\\\nba_personal_info_cleaned.csv')"
   ]
  },
  {
   "cell_type": "code",
   "execution_count": null,
   "id": "d7b06731",
   "metadata": {},
   "outputs": [],
   "source": [
    "cleaned_info = pd.DataFrame(np.zeros((len(final_cleaned.T),2)),\n",
    "                            final_cleaned.columns,\n",
    "                            columns=['DataType','Description'])"
   ]
  },
  {
   "cell_type": "markdown",
   "id": "cf0e7422",
   "metadata": {},
   "source": [
    "## Descriptions for Cleaned Frame Columns"
   ]
  },
  {
   "cell_type": "code",
   "execution_count": null,
   "id": "68404dcb",
   "metadata": {},
   "outputs": [],
   "source": [
    "descriptions = {'Year':'Basketball Season for the Player (eg. 2020 = 2019-2020 NBA Season)',\n",
    " 'FirstName':\"NBA Player's First Name\",\n",
    " 'LastName':\"NBA Player's Last Name\",\n",
    " 'Name': \"NBA Player's Full Name\",\n",
    " 'Nationality': \"NBA Player's Nationality (if None, Not Found on Wikipedia)\",\n",
    " 'American': '1 if Player was Born in the United States',\n",
    " 'Draft': 'Year Player was Drafted in the NBA',\n",
    " 'Birthday': \"Birthdate (YYYY-MM-DD)\", \n",
    " 'Birthplace': \"If in the United States, Contains State Name and Occasionally 'U.S.'; Else Contains Country Name and Occasionally a City Name\", \n",
    " 'CareerStart': \"First Year Playing in the NBA\", \n",
    " 'CareerEnd': \"Last Year Playing in the NBA\",\n",
    " 'Height (in)': \"Player's Height Measured in Inches\", \n",
    " 'Weight (lbs)': \"Player's Weight Measured in Pounds\", \n",
    " 'HS1':\"Name of 1st High School Player Went to\",\n",
    " 'HS2':\"Name of 2nd High School Player Went to\",\n",
    " 'HS3':\"Name of 3rd High School Player Went to\",\n",
    " 'HS4':\"Name of 4th High School Player Went to\", \n",
    " 'HSC1':\"City of 1st High School Player Went to\",\n",
    " 'HSC2':\"City of 2nd High School Player Went to\",\n",
    " 'HSC3':\"City of 3rd High School Player Went to\", \n",
    " 'HSC4':\"City of 4th High School Player Went to\",\n",
    " 'USHS':\"1 if All the Player's High School Years Were in the U.S.; else 0\",\n",
    " 'CollegeY1':\"Years Player Went to His 1st College\",\n",
    " 'CollegeY2':\"Years Player Went to His 2nd College\",\n",
    " 'CollegeY3':\"Years Player Went to His 3rd College\",\n",
    " 'CollegeY4':\"Years Player Went to His 4th College\",\n",
    " 'College1':\"1st College a Player Went to\", \n",
    " 'College2':\"2nd College a Player Went to\",\n",
    " 'College3':\"3rd College a Player Went to\",\n",
    " 'College4':\"4th College a Player Went to\",\n",
    " 'Teams':'Years, Team That NBA Player Was On'}"
   ]
  },
  {
   "cell_type": "code",
   "execution_count": null,
   "id": "45b771f4",
   "metadata": {},
   "outputs": [],
   "source": [
    "cleaned_info[\"DataType\"] = final_cleaned.dtypes\n",
    "cleaned_info[\"DataType\"] = cleaned_info[\"DataType\"].apply(lambda x: 'str, NoneType' if x==\"object\" else x)\n",
    "cleaned_info.loc[\"Teams\",\"DataType\"] = 'str, [str], NoneType'\n",
    "cleaned_info[\"Description\"] = descriptions.values()"
   ]
  },
  {
   "cell_type": "code",
   "execution_count": null,
   "id": "28f6d05b",
   "metadata": {},
   "outputs": [],
   "source": [
    "cleaned_info"
   ]
  },
  {
   "cell_type": "code",
   "execution_count": null,
   "id": "d1dbb177",
   "metadata": {},
   "outputs": [],
   "source": [
    "cleaned_info.to_csv('C:\\\\Users\\\\finnr\\\\Downloads\\\\Zhao McIntire Research\\\\nba_personal_info_cleaned_descriptions.csv')"
   ]
  },
  {
   "cell_type": "code",
   "execution_count": null,
   "id": "045743bf",
   "metadata": {},
   "outputs": [],
   "source": [
    "nba_stats_copy[nba_stats_copy['FirstName']=='Shaquille']"
   ]
  }
 ],
 "metadata": {
  "kernelspec": {
   "display_name": "Python 3 (ipykernel)",
   "language": "python",
   "name": "python3"
  },
  "language_info": {
   "codemirror_mode": {
    "name": "ipython",
    "version": 3
   },
   "file_extension": ".py",
   "mimetype": "text/x-python",
   "name": "python",
   "nbconvert_exporter": "python",
   "pygments_lexer": "ipython3",
   "version": "3.9.7"
  }
 },
 "nbformat": 4,
 "nbformat_minor": 5
}
